{
 "cells": [
  {
   "cell_type": "code",
   "execution_count": 1,
   "metadata": {
    "colab": {
     "base_uri": "https://localhost:8080/"
    },
    "id": "y3vUBbSSQuVc",
    "outputId": "65cad127-accd-4b99-d214-9803c6313b75"
   },
   "outputs": [],
   "source": [
    "# from google.colab import drive\n",
    "\n",
    "# drive.mount('/content/drive')"
   ]
  },
  {
   "cell_type": "code",
   "execution_count": 6,
   "metadata": {
    "colab": {
     "base_uri": "https://localhost:8080/"
    },
    "id": "ynP9KJ_PSYLa",
    "outputId": "98447e6b-bdd2-49ac-ce0a-ac86ead3eb53"
   },
   "outputs": [
    {
     "data": {
      "text/plain": [
       "['Collecting pyreadstat',\n",
       " '  Using cached pyreadstat-1.2.8-cp311-cp311-macosx_11_0_arm64.whl.metadata (1.0 kB)',\n",
       " 'Collecting pandas>=1.2.0 (from pyreadstat)',\n",
       " '  Using cached pandas-2.2.3-cp311-cp311-macosx_11_0_arm64.whl.metadata (89 kB)',\n",
       " 'Collecting numpy>=1.23.2 (from pandas>=1.2.0->pyreadstat)',\n",
       " '  Using cached numpy-2.1.3-cp311-cp311-macosx_14_0_arm64.whl.metadata (62 kB)',\n",
       " 'Requirement already satisfied: python-dateutil>=2.8.2 in ./.venv/lib/python3.11/site-packages (from pandas>=1.2.0->pyreadstat) (2.9.0.post0)',\n",
       " 'Collecting pytz>=2020.1 (from pandas>=1.2.0->pyreadstat)',\n",
       " '  Using cached pytz-2024.2-py2.py3-none-any.whl.metadata (22 kB)',\n",
       " 'Collecting tzdata>=2022.7 (from pandas>=1.2.0->pyreadstat)',\n",
       " '  Using cached tzdata-2024.2-py2.py3-none-any.whl.metadata (1.4 kB)',\n",
       " 'Requirement already satisfied: six>=1.5 in ./.venv/lib/python3.11/site-packages (from python-dateutil>=2.8.2->pandas>=1.2.0->pyreadstat) (1.16.0)',\n",
       " 'Using cached pyreadstat-1.2.8-cp311-cp311-macosx_11_0_arm64.whl (560 kB)',\n",
       " 'Using cached pandas-2.2.3-cp311-cp311-macosx_11_0_arm64.whl (11.3 MB)',\n",
       " 'Downloading numpy-2.1.3-cp311-cp311-macosx_14_0_arm64.whl (5.4 MB)',\n",
       " '\\x1b[?25l   \\x1b[38;5;237m━━━━━━━━━━━━━━━━━━━━━━━━━━━━━━━━━━━━━━━━\\x1b[0m \\x1b[32m0.0/5.4 MB\\x1b[0m \\x1b[31m?\\x1b[0m eta \\x1b[36m-:--:--\\x1b[0m',\n",
       " '\\x1b[2K   \\x1b[38;2;249;38;114m━\\x1b[0m\\x1b[38;2;249;38;114m╸\\x1b[0m\\x1b[38;5;237m━━━━━━━━━━━━━━━━━━━━━━━━━━━━━━━━━━━━━━\\x1b[0m \\x1b[32m0.2/5.4 MB\\x1b[0m \\x1b[31m6.4 MB/s\\x1b[0m eta \\x1b[36m0:00:01\\x1b[0m',\n",
       " '\\x1b[2K   \\x1b[38;2;249;38;114m━━━━\\x1b[0m\\x1b[38;2;249;38;114m╸\\x1b[0m\\x1b[38;5;237m━━━━━━━━━━━━━━━━━━━━━━━━━━━━━━━━━━━\\x1b[0m \\x1b[32m0.6/5.4 MB\\x1b[0m \\x1b[31m8.4 MB/s\\x1b[0m eta \\x1b[36m0:00:01\\x1b[0m',\n",
       " '\\x1b[2K   \\x1b[38;2;249;38;114m━━━━━━━━\\x1b[0m\\x1b[38;5;237m╺\\x1b[0m\\x1b[38;5;237m━━━━━━━━━━━━━━━━━━━━━━━━━━━━━━━\\x1b[0m \\x1b[32m1.1/5.4 MB\\x1b[0m \\x1b[31m9.6 MB/s\\x1b[0m eta \\x1b[36m0:00:01\\x1b[0m',\n",
       " '\\x1b[2K   \\x1b[38;2;249;38;114m━━━━━━━━━━\\x1b[0m\\x1b[38;5;237m╺\\x1b[0m\\x1b[38;5;237m━━━━━━━━━━━━━━━━━━━━━━━━━━━━━\\x1b[0m \\x1b[32m1.3/5.4 MB\\x1b[0m \\x1b[31m9.2 MB/s\\x1b[0m eta \\x1b[36m0:00:01\\x1b[0m',\n",
       " '\\x1b[2K   \\x1b[38;2;249;38;114m━━━━━━━━━━━\\x1b[0m\\x1b[38;2;249;38;114m╸\\x1b[0m\\x1b[38;5;237m━━━━━━━━━━━━━━━━━━━━━━━━━━━━\\x1b[0m \\x1b[32m1.6/5.4 MB\\x1b[0m \\x1b[31m8.9 MB/s\\x1b[0m eta \\x1b[36m0:00:01\\x1b[0m',\n",
       " '\\x1b[2K   \\x1b[38;2;249;38;114m━━━━━━━━━━━━━━\\x1b[0m\\x1b[38;5;237m╺\\x1b[0m\\x1b[38;5;237m━━━━━━━━━━━━━━━━━━━━━━━━━\\x1b[0m \\x1b[32m1.9/5.4 MB\\x1b[0m \\x1b[31m8.5 MB/s\\x1b[0m eta \\x1b[36m0:00:01\\x1b[0m',\n",
       " '\\x1b[2K   \\x1b[38;2;249;38;114m━━━━━━━━━━━━━━━━\\x1b[0m\\x1b[38;5;237m╺\\x1b[0m\\x1b[38;5;237m━━━━━━━━━━━━━━━━━━━━━━━\\x1b[0m \\x1b[32m2.2/5.4 MB\\x1b[0m \\x1b[31m8.4 MB/s\\x1b[0m eta \\x1b[36m0:00:01\\x1b[0m',\n",
       " '\\x1b[2K   \\x1b[38;2;249;38;114m━━━━━━━━━━━━━━━━━━━\\x1b[0m\\x1b[38;5;237m╺\\x1b[0m\\x1b[38;5;237m━━━━━━━━━━━━━━━━━━━━\\x1b[0m \\x1b[32m2.6/5.4 MB\\x1b[0m \\x1b[31m8.2 MB/s\\x1b[0m eta \\x1b[36m0:00:01\\x1b[0m',\n",
       " '\\x1b[2K   \\x1b[38;2;249;38;114m━━━━━━━━━━━━━━━━━━━━\\x1b[0m\\x1b[38;5;237m╺\\x1b[0m\\x1b[38;5;237m━━━━━━━━━━━━━━━━━━━\\x1b[0m \\x1b[32m2.7/5.4 MB\\x1b[0m \\x1b[31m7.9 MB/s\\x1b[0m eta \\x1b[36m0:00:01\\x1b[0m',\n",
       " '\\x1b[2K   \\x1b[38;2;249;38;114m━━━━━━━━━━━━━━━━━━━━━\\x1b[0m\\x1b[38;2;249;38;114m╸\\x1b[0m\\x1b[38;5;237m━━━━━━━━━━━━━━━━━━\\x1b[0m \\x1b[32m2.9/5.4 MB\\x1b[0m \\x1b[31m7.4 MB/s\\x1b[0m eta \\x1b[36m0:00:01\\x1b[0m',\n",
       " '\\x1b[2K   \\x1b[38;2;249;38;114m━━━━━━━━━━━━━━━━━━━━━━\\x1b[0m\\x1b[38;5;237m╺\\x1b[0m\\x1b[38;5;237m━━━━━━━━━━━━━━━━━\\x1b[0m \\x1b[32m3.0/5.4 MB\\x1b[0m \\x1b[31m7.2 MB/s\\x1b[0m eta \\x1b[36m0:00:01\\x1b[0m',\n",
       " '\\x1b[2K   \\x1b[38;2;249;38;114m━━━━━━━━━━━━━━━━━━━━━━━\\x1b[0m\\x1b[38;2;249;38;114m╸\\x1b[0m\\x1b[38;5;237m━━━━━━━━━━━━━━━━\\x1b[0m \\x1b[32m3.2/5.4 MB\\x1b[0m \\x1b[31m7.0 MB/s\\x1b[0m eta \\x1b[36m0:00:01\\x1b[0m',\n",
       " '\\x1b[2K   \\x1b[38;2;249;38;114m━━━━━━━━━━━━━━━━━━━━━━━━━━\\x1b[0m\\x1b[38;2;249;38;114m╸\\x1b[0m\\x1b[38;5;237m━━━━━━━━━━━━━\\x1b[0m \\x1b[32m3.6/5.4 MB\\x1b[0m \\x1b[31m7.1 MB/s\\x1b[0m eta \\x1b[36m0:00:01\\x1b[0m',\n",
       " '\\x1b[2K   \\x1b[38;2;249;38;114m━━━━━━━━━━━━━━━━━━━━━━━━━━━━\\x1b[0m\\x1b[38;5;237m╺\\x1b[0m\\x1b[38;5;237m━━━━━━━━━━━\\x1b[0m \\x1b[32m3.7/5.4 MB\\x1b[0m \\x1b[31m6.9 MB/s\\x1b[0m eta \\x1b[36m0:00:01\\x1b[0m',\n",
       " '\\x1b[2K   \\x1b[38;2;249;38;114m━━━━━━━━━━━━━━━━━━━━━━━━━━━━━━\\x1b[0m\\x1b[38;2;249;38;114m╸\\x1b[0m\\x1b[38;5;237m━━━━━━━━━\\x1b[0m \\x1b[32m4.1/5.4 MB\\x1b[0m \\x1b[31m7.0 MB/s\\x1b[0m eta \\x1b[36m0:00:01\\x1b[0m',\n",
       " '\\x1b[2K   \\x1b[38;2;249;38;114m━━━━━━━━━━━━━━━━━━━━━━━━━━━━━━━━\\x1b[0m\\x1b[38;5;237m╺\\x1b[0m\\x1b[38;5;237m━━━━━━━\\x1b[0m \\x1b[32m4.3/5.4 MB\\x1b[0m \\x1b[31m7.0 MB/s\\x1b[0m eta \\x1b[36m0:00:01\\x1b[0m',\n",
       " '\\x1b[2K   \\x1b[38;2;249;38;114m━━━━━━━━━━━━━━━━━━━━━━━━━━━━━━━━━━\\x1b[0m\\x1b[38;5;237m╺\\x1b[0m\\x1b[38;5;237m━━━━━\\x1b[0m \\x1b[32m4.6/5.4 MB\\x1b[0m \\x1b[31m6.9 MB/s\\x1b[0m eta \\x1b[36m0:00:01\\x1b[0m',\n",
       " '\\x1b[2K   \\x1b[38;2;249;38;114m━━━━━━━━━━━━━━━━━━━━━━━━━━━━━━━━━━━\\x1b[0m\\x1b[38;5;237m╺\\x1b[0m\\x1b[38;5;237m━━━━\\x1b[0m \\x1b[32m4.7/5.4 MB\\x1b[0m \\x1b[31m6.7 MB/s\\x1b[0m eta \\x1b[36m0:00:01\\x1b[0m',\n",
       " '\\x1b[2K   \\x1b[38;2;249;38;114m━━━━━━━━━━━━━━━━━━━━━━━━━━━━━━━━━━━━━━\\x1b[0m\\x1b[38;5;237m╺\\x1b[0m\\x1b[38;5;237m━\\x1b[0m \\x1b[32m5.1/5.4 MB\\x1b[0m \\x1b[31m6.9 MB/s\\x1b[0m eta \\x1b[36m0:00:01\\x1b[0m',\n",
       " '\\x1b[2K   \\x1b[38;2;114;156;31m━━━━━━━━━━━━━━━━━━━━━━━━━━━━━━━━━━━━━━━━\\x1b[0m \\x1b[32m5.4/5.4 MB\\x1b[0m \\x1b[31m6.8 MB/s\\x1b[0m eta \\x1b[36m0:00:00\\x1b[0m',\n",
       " '\\x1b[?25hUsing cached pytz-2024.2-py2.py3-none-any.whl (508 kB)',\n",
       " 'Using cached tzdata-2024.2-py2.py3-none-any.whl (346 kB)',\n",
       " 'Installing collected packages: pytz, tzdata, numpy, pandas, pyreadstat',\n",
       " 'Successfully installed numpy-2.1.3 pandas-2.2.3 pyreadstat-1.2.8 pytz-2024.2 tzdata-2024.2',\n",
       " '',\n",
       " '\\x1b[1m[\\x1b[0m\\x1b[34;49mnotice\\x1b[0m\\x1b[1;39;49m]\\x1b[0m\\x1b[39;49m A new release of pip is available: \\x1b[0m\\x1b[31;49m24.0\\x1b[0m\\x1b[39;49m -> \\x1b[0m\\x1b[32;49m24.3.1\\x1b[0m',\n",
       " '\\x1b[1m[\\x1b[0m\\x1b[34;49mnotice\\x1b[0m\\x1b[1;39;49m]\\x1b[0m\\x1b[39;49m To update, run: \\x1b[0m\\x1b[32;49mpip install --upgrade pip\\x1b[0m']"
      ]
     },
     "execution_count": 6,
     "metadata": {},
     "output_type": "execute_result"
    }
   ],
   "source": [
    "!! pip install pyreadstat"
   ]
  },
  {
   "cell_type": "code",
   "execution_count": 56,
   "metadata": {
    "id": "Q62f6B55QlMt"
   },
   "outputs": [],
   "source": [
    "import pyreadstat\n",
    "\n",
    "# name = 'LASI_W1_Community_data_25-03-22'\n",
    "# name = \"3_LASI_W1_Individual_23-03-22\"\n",
    "# name = \"4_LASI_W1_Biomarker_24-03-22\"\n",
    "# name = \"5_LASI_W1_CV_memberfile_23-03-22\"\n",
    "name = \"6_LASI_W1_CV_deathmemberfile_23-03-22\"\n",
    "\n",
    "# Read the .dta file with pyreadstat\n",
    "df, meta = pyreadstat.read_dta('data/'+name+'.dta')\n",
    "\n",
    "# Load the .dta file into a DataFrame\n",
    "#df = pd.read_stata('LASI_including_Sikkim_23-03-22/'+name+'.dta')\n",
    "\n",
    "column_labels = {col: meta.column_labels[i] for i, col in enumerate(df.columns)}"
   ]
  },
  {
   "cell_type": "code",
   "execution_count": 57,
   "metadata": {
    "id": "3EeRaP8mTQjH"
   },
   "outputs": [],
   "source": [
    "import json\n",
    "\n",
    "# Assuming column_labels is already defined as in your provided code\n",
    "\n",
    "# Convert the dictionary to a JSON string\n",
    "column_labels_json = json.dumps(column_labels, indent=4)\n",
    "\n",
    "# Save the JSON string to a text file\n",
    "with open('column_labels', 'w') as f:\n",
    "    f.write(column_labels_json)"
   ]
  },
  {
   "cell_type": "code",
   "execution_count": 58,
   "metadata": {
    "colab": {
     "base_uri": "https://localhost:8080/"
    },
    "id": "qkFiEbtWTsWf",
    "outputId": "098d2069-40af-4c38-892d-11f81cee8f84"
   },
   "outputs": [
    {
     "name": "stdout",
     "output_type": "stream",
     "text": [
      "{'cv018': 'Any HH member died in last two years',\n",
      " 'cv018_number': 'Number of deaths in last 2 years in household',\n",
      " 'cv021': 'Relationship of deceased person to household head',\n",
      " 'cv022': 'Age of deceased person',\n",
      " 'cv023': 'Gender of deceased person',\n",
      " 'cv024': 'Year of death',\n",
      " 'cv025': 'Month of death',\n",
      " 'cv026a': 'Main cause of death',\n",
      " 'cv026b': 'Sub-cause of death',\n",
      " 'cv027': 'Cause certified by medical professional',\n",
      " 'cv_indiaweight': 'CV_India weight',\n",
      " 'cv_stateweight': 'CV_State weight',\n",
      " 'deathcounter': 'Counter of death in the household',\n",
      " 'hhid': 'Household ID',\n",
      " 'interview_date': 'Date of interview (year and month)',\n",
      " 'prim_key': 'Deceased person ID',\n",
      " 'residence': 'Place of residence',\n",
      " 'ssuid': 'Ssuid',\n",
      " 'state': 'State name',\n",
      " 'stateid': 'State ID'}\n"
     ]
    }
   ],
   "source": [
    "import pprint\n",
    "pprint.pprint(column_labels)\n",
    "\n",
    "\n",
    "# Save the DataFrame to a CSV file\n",
    "df_copy = df.copy()\n",
    "\n",
    "df.to_csv('data/'+name+'.csv', index=False)"
   ]
  },
  {
   "cell_type": "code",
   "execution_count": 59,
   "metadata": {},
   "outputs": [
    {
     "ename": "KeyError",
     "evalue": "\"None of [Index(['dm005', 'dm028_totalmarriage'], dtype='object')] are in the [columns]\"",
     "output_type": "error",
     "traceback": [
      "\u001b[0;31m---------------------------------------------------------------------------\u001b[0m",
      "\u001b[0;31mKeyError\u001b[0m                                  Traceback (most recent call last)",
      "Cell \u001b[0;32mIn[59], line 24\u001b[0m\n\u001b[1;32m     17\u001b[0m col2 \u001b[38;5;241m=\u001b[39m \u001b[38;5;124m'\u001b[39m\u001b[38;5;124mdm028_totalmarriage\u001b[39m\u001b[38;5;124m'\u001b[39m\n\u001b[1;32m     18\u001b[0m \u001b[38;5;66;03m# col3 = 'rc007c'\u001b[39;00m\n\u001b[1;32m     19\u001b[0m \u001b[38;5;66;03m# col4 = 'rc007'\u001b[39;00m\n\u001b[1;32m     20\u001b[0m \u001b[38;5;66;03m# for \u001b[39;00m\n\u001b[1;32m     21\u001b[0m \u001b[38;5;66;03m# x = df[\"dm005\"]\u001b[39;00m\n\u001b[1;32m     22\u001b[0m \u001b[38;5;66;03m# print(x)\u001b[39;00m\n\u001b[0;32m---> 24\u001b[0m df \u001b[38;5;241m=\u001b[39m \u001b[43mdf\u001b[49m\u001b[43m[\u001b[49m\u001b[43m[\u001b[49m\u001b[43mcol1\u001b[49m\u001b[43m,\u001b[49m\u001b[43m \u001b[49m\u001b[43mcol2\u001b[49m\u001b[43m]\u001b[49m\u001b[43m]\u001b[49m\n\u001b[1;32m     26\u001b[0m df\u001b[38;5;241m.\u001b[39mcolumns \u001b[38;5;241m=\u001b[39m [columns[col1], columns[col2]]\n\u001b[1;32m     28\u001b[0m \u001b[38;5;66;03m# df.to_csv(name+'.csv', index=False)\u001b[39;00m\n\u001b[1;32m     29\u001b[0m \n\u001b[1;32m     30\u001b[0m \u001b[38;5;66;03m# df.head()\u001b[39;00m\n",
      "File \u001b[0;32m~/global-health/.venv/lib/python3.11/site-packages/pandas/core/frame.py:4108\u001b[0m, in \u001b[0;36mDataFrame.__getitem__\u001b[0;34m(self, key)\u001b[0m\n\u001b[1;32m   4106\u001b[0m     \u001b[38;5;28;01mif\u001b[39;00m is_iterator(key):\n\u001b[1;32m   4107\u001b[0m         key \u001b[38;5;241m=\u001b[39m \u001b[38;5;28mlist\u001b[39m(key)\n\u001b[0;32m-> 4108\u001b[0m     indexer \u001b[38;5;241m=\u001b[39m \u001b[38;5;28;43mself\u001b[39;49m\u001b[38;5;241;43m.\u001b[39;49m\u001b[43mcolumns\u001b[49m\u001b[38;5;241;43m.\u001b[39;49m\u001b[43m_get_indexer_strict\u001b[49m\u001b[43m(\u001b[49m\u001b[43mkey\u001b[49m\u001b[43m,\u001b[49m\u001b[43m \u001b[49m\u001b[38;5;124;43m\"\u001b[39;49m\u001b[38;5;124;43mcolumns\u001b[39;49m\u001b[38;5;124;43m\"\u001b[39;49m\u001b[43m)\u001b[49m[\u001b[38;5;241m1\u001b[39m]\n\u001b[1;32m   4110\u001b[0m \u001b[38;5;66;03m# take() does not accept boolean indexers\u001b[39;00m\n\u001b[1;32m   4111\u001b[0m \u001b[38;5;28;01mif\u001b[39;00m \u001b[38;5;28mgetattr\u001b[39m(indexer, \u001b[38;5;124m\"\u001b[39m\u001b[38;5;124mdtype\u001b[39m\u001b[38;5;124m\"\u001b[39m, \u001b[38;5;28;01mNone\u001b[39;00m) \u001b[38;5;241m==\u001b[39m \u001b[38;5;28mbool\u001b[39m:\n",
      "File \u001b[0;32m~/global-health/.venv/lib/python3.11/site-packages/pandas/core/indexes/base.py:6200\u001b[0m, in \u001b[0;36mIndex._get_indexer_strict\u001b[0;34m(self, key, axis_name)\u001b[0m\n\u001b[1;32m   6197\u001b[0m \u001b[38;5;28;01melse\u001b[39;00m:\n\u001b[1;32m   6198\u001b[0m     keyarr, indexer, new_indexer \u001b[38;5;241m=\u001b[39m \u001b[38;5;28mself\u001b[39m\u001b[38;5;241m.\u001b[39m_reindex_non_unique(keyarr)\n\u001b[0;32m-> 6200\u001b[0m \u001b[38;5;28;43mself\u001b[39;49m\u001b[38;5;241;43m.\u001b[39;49m\u001b[43m_raise_if_missing\u001b[49m\u001b[43m(\u001b[49m\u001b[43mkeyarr\u001b[49m\u001b[43m,\u001b[49m\u001b[43m \u001b[49m\u001b[43mindexer\u001b[49m\u001b[43m,\u001b[49m\u001b[43m \u001b[49m\u001b[43maxis_name\u001b[49m\u001b[43m)\u001b[49m\n\u001b[1;32m   6202\u001b[0m keyarr \u001b[38;5;241m=\u001b[39m \u001b[38;5;28mself\u001b[39m\u001b[38;5;241m.\u001b[39mtake(indexer)\n\u001b[1;32m   6203\u001b[0m \u001b[38;5;28;01mif\u001b[39;00m \u001b[38;5;28misinstance\u001b[39m(key, Index):\n\u001b[1;32m   6204\u001b[0m     \u001b[38;5;66;03m# GH 42790 - Preserve name from an Index\u001b[39;00m\n",
      "File \u001b[0;32m~/global-health/.venv/lib/python3.11/site-packages/pandas/core/indexes/base.py:6249\u001b[0m, in \u001b[0;36mIndex._raise_if_missing\u001b[0;34m(self, key, indexer, axis_name)\u001b[0m\n\u001b[1;32m   6247\u001b[0m \u001b[38;5;28;01mif\u001b[39;00m nmissing:\n\u001b[1;32m   6248\u001b[0m     \u001b[38;5;28;01mif\u001b[39;00m nmissing \u001b[38;5;241m==\u001b[39m \u001b[38;5;28mlen\u001b[39m(indexer):\n\u001b[0;32m-> 6249\u001b[0m         \u001b[38;5;28;01mraise\u001b[39;00m \u001b[38;5;167;01mKeyError\u001b[39;00m(\u001b[38;5;124mf\u001b[39m\u001b[38;5;124m\"\u001b[39m\u001b[38;5;124mNone of [\u001b[39m\u001b[38;5;132;01m{\u001b[39;00mkey\u001b[38;5;132;01m}\u001b[39;00m\u001b[38;5;124m] are in the [\u001b[39m\u001b[38;5;132;01m{\u001b[39;00maxis_name\u001b[38;5;132;01m}\u001b[39;00m\u001b[38;5;124m]\u001b[39m\u001b[38;5;124m\"\u001b[39m)\n\u001b[1;32m   6251\u001b[0m     not_found \u001b[38;5;241m=\u001b[39m \u001b[38;5;28mlist\u001b[39m(ensure_index(key)[missing_mask\u001b[38;5;241m.\u001b[39mnonzero()[\u001b[38;5;241m0\u001b[39m]]\u001b[38;5;241m.\u001b[39munique())\n\u001b[1;32m   6252\u001b[0m     \u001b[38;5;28;01mraise\u001b[39;00m \u001b[38;5;167;01mKeyError\u001b[39;00m(\u001b[38;5;124mf\u001b[39m\u001b[38;5;124m\"\u001b[39m\u001b[38;5;132;01m{\u001b[39;00mnot_found\u001b[38;5;132;01m}\u001b[39;00m\u001b[38;5;124m not in index\u001b[39m\u001b[38;5;124m\"\u001b[39m)\n",
      "\u001b[0;31mKeyError\u001b[0m: \"None of [Index(['dm005', 'dm028_totalmarriage'], dtype='object')] are in the [columns]\""
     ]
    }
   ],
   "source": [
    "# \"dm005\": \"Age at last birthday\",\n",
    "# \"dm028_totalmarriage\": \"Total number of marriages\",\n",
    "# \"rc007c\": \"Age of the respondent\",\n",
    "# \"rc007b\": \"Sex of the respondent\",\n",
    "\n",
    "\n",
    "columns = {\"dm005\": \"Age at last birthday\",\n",
    "           \"dm028_totalmarriage\": \"Total number of marriages\",\n",
    "           \"rc007c\": \"Age of the respondent\",\n",
    "           \"rc007\": \"Sex of the respondent\",\n",
    "           }\n",
    "\n",
    "# x = df[\"Age at last birthday\"]\n",
    "# print(df)\n",
    "\n",
    "col1 = 'dm005'\n",
    "col2 = 'dm028_totalmarriage'\n",
    "# col3 = 'rc007c'\n",
    "# col4 = 'rc007'\n",
    "# for \n",
    "# x = df[\"dm005\"]\n",
    "# print(x)\n",
    "\n",
    "df = df[[col1, col2]]\n",
    "\n",
    "df.columns = [columns[col1], columns[col2]]\n",
    "\n",
    "# df.to_csv(name+'.csv', index=False)\n",
    "\n",
    "# df.head()\n"
   ]
  },
  {
   "cell_type": "code",
   "execution_count": null,
   "metadata": {},
   "outputs": [
    {
     "data": {
      "text/html": [
       "<div>\n",
       "<style scoped>\n",
       "    .dataframe tbody tr th:only-of-type {\n",
       "        vertical-align: middle;\n",
       "    }\n",
       "\n",
       "    .dataframe tbody tr th {\n",
       "        vertical-align: top;\n",
       "    }\n",
       "\n",
       "    .dataframe thead th {\n",
       "        text-align: right;\n",
       "    }\n",
       "</style>\n",
       "<table border=\"1\" class=\"dataframe\">\n",
       "  <thead>\n",
       "    <tr style=\"text-align: right;\">\n",
       "      <th></th>\n",
       "      <th>Age at last birthday</th>\n",
       "      <th>Total number of marriages</th>\n",
       "    </tr>\n",
       "  </thead>\n",
       "  <tbody>\n",
       "    <tr>\n",
       "      <th>0</th>\n",
       "      <td>70</td>\n",
       "      <td>1</td>\n",
       "    </tr>\n",
       "    <tr>\n",
       "      <th>1</th>\n",
       "      <td>68</td>\n",
       "      <td>1</td>\n",
       "    </tr>\n",
       "    <tr>\n",
       "      <th>2</th>\n",
       "      <td>54</td>\n",
       "      <td>1</td>\n",
       "    </tr>\n",
       "    <tr>\n",
       "      <th>3</th>\n",
       "      <td>51</td>\n",
       "      <td>1</td>\n",
       "    </tr>\n",
       "    <tr>\n",
       "      <th>4</th>\n",
       "      <td>85</td>\n",
       "      <td>1</td>\n",
       "    </tr>\n",
       "  </tbody>\n",
       "</table>\n",
       "</div>"
      ],
      "text/plain": [
       "   Age at last birthday Total number of marriages\n",
       "0                    70                         1\n",
       "1                    68                         1\n",
       "2                    54                         1\n",
       "3                    51                         1\n",
       "4                    85                         1"
      ]
     },
     "execution_count": 43,
     "metadata": {},
     "output_type": "execute_result"
    }
   ],
   "source": [
    "df.head()"
   ]
  },
  {
   "cell_type": "code",
   "execution_count": null,
   "metadata": {},
   "outputs": [],
   "source": []
  },
  {
   "cell_type": "code",
   "execution_count": null,
   "metadata": {},
   "outputs": [],
   "source": []
  }
 ],
 "metadata": {
  "colab": {
   "provenance": []
  },
  "kernelspec": {
   "display_name": ".venv",
   "language": "python",
   "name": "python3"
  },
  "language_info": {
   "codemirror_mode": {
    "name": "ipython",
    "version": 3
   },
   "file_extension": ".py",
   "mimetype": "text/x-python",
   "name": "python",
   "nbconvert_exporter": "python",
   "pygments_lexer": "ipython3",
   "version": "3.11.9"
  }
 },
 "nbformat": 4,
 "nbformat_minor": 0
}
